{
 "cells": [
  {
   "cell_type": "markdown",
   "metadata": {},
   "source": [
    "# Generate Synthetic Data for Tests"
   ]
  },
  {
   "cell_type": "code",
   "execution_count": null,
   "metadata": {},
   "outputs": [],
   "source": [
    "import numpy as np\n",
    "import xarray as xr\n",
    "import cvxpy as cp\n",
    "import matplotlib.pyplot as plt\n",
    "import datadrivenquadrature as ddq"
   ]
  },
  {
   "cell_type": "code",
   "execution_count": null,
   "metadata": {},
   "outputs": [],
   "source": [
    "def generate_spectra(x_idx, y_idx, s=1000):\n",
    "    spectra = []\n",
    "    x = np.arange(0, 12, 1./s)\n",
    "    for val in x:\n",
    "        if val < 8:\n",
    "            spectra.append((-x_idx / 16.) * (val) * (val - 8))\n",
    "        else:\n",
    "            spectra.append((-y_idx / 4.) * (val - 8) * (val - 12))\n",
    "    return spectra\n",
    "\n",
    "def compute_exact_integral(x_idx, y_idx):\n",
    "    return 16./3 * x_idx + 8./3 * y_idx"
   ]
  },
  {
   "cell_type": "code",
   "execution_count": null,
   "metadata": {},
   "outputs": [],
   "source": [
    "n = 10 # size of square block of data\n",
    "s = 1000 # number of points on the integration axis\n",
    "x_integrated = []\n",
    "x_spectra = []\n",
    "\n",
    "for y_idx in range(n):\n",
    "    x_integrated_row = []\n",
    "    x_spectra_row = []\n",
    "    for x_idx in range(n):\n",
    "        x_integrated_row.append(compute_exact_integral(x_idx + 1, y_idx + 1))\n",
    "        x_spectra_row.append(generate_spectra(x_idx + 1, y_idx + 1, s))\n",
    "    x_integrated.append(x_integrated_row)\n",
    "    x_spectra.append(x_spectra_row)\n",
    "\n",
    "x_range = np.arange(0, 12, 1./s)\n",
    "\n",
    "x = xr.DataArray(x_spectra,\n",
    "    dims=(\"x_idx\", \"y_idx\", \"integration_axis\"), \n",
    "    coords={\"x_idx\": list(np.arange(1, n + 1, 1)),\n",
    "             \"y_idx\": list(np.arange(1, n + 1, 1)),\n",
    "             \"integration_axis\": x_range}\n",
    ")\n",
    "y = xr.DataArray(x_integrated,\n",
    "    dims=(\"x_idx\", \"y_idx\"), \n",
    "    coords={\"x_idx\": list(np.arange(1, n + 1, 1)),\n",
    "             \"y_idx\": list(np.arange(1, n + 1, 1))}\n",
    ")"
   ]
  },
  {
   "cell_type": "code",
   "execution_count": null,
   "metadata": {},
   "outputs": [],
   "source": [
    "print(ddq.find_normalization_vector(x, ['integration_axis', 'x_idx', 'y_idx']))"
   ]
  },
  {
   "cell_type": "code",
   "execution_count": null,
   "metadata": {},
   "outputs": [],
   "source": [
    "print(x[0][0].values)\n",
    "plt.plot(x_range, x[0][0].values)"
   ]
  },
  {
   "cell_type": "code",
   "execution_count": null,
   "metadata": {},
   "outputs": [],
   "source": [
    "y_ref = y.values.flatten()\n",
    "print(y_ref.shape)"
   ]
  },
  {
   "cell_type": "code",
   "execution_count": null,
   "metadata": {},
   "outputs": [],
   "source": [
    "def user_cost_fnc(y, y_hat):\n",
    "    cost = cp.norm(y - y_hat)\n",
    "    return cost\n",
    "\n",
    "def map_func(x, point_set, x_sup=None):\n",
    "    point_idxs = [point[0] for point in point_set]\n",
    "    points = np.array(x[:,:,point_idxs].values).reshape((n*n, 2)) / 12\n",
    "    return points\n",
    "\n",
    "params = {}\n",
    "integration_list = ['integration_axis']\n",
    "params['integration_list'] = integration_list\n",
    "params['n_points'] = 2\n",
    "params['epochs'] = 100\n",
    "params['success'] = 25\n",
    "params['block_size'] = 100\n",
    "\n",
    "history = ddq.optimize(x, y_ref / 12, user_cost_fnc, map_func, params, x_sup=None)"
   ]
  },
  {
   "cell_type": "code",
   "execution_count": null,
   "metadata": {},
   "outputs": [],
   "source": [
    "mean_costs = []\n",
    "for cost in history['cost']:\n",
    "    mean_costs.append(np.mean(cost))\n",
    "\n",
    "plt.plot(np.arange(len(mean_costs)), mean_costs)\n",
    "print(history.keys())\n",
    "print(history['best'])\n",
    "print(history['cost'][7][12])\n",
    "print(history['point_sets'][7][12])\n",
    "print(history['weight_sets'][7][12])"
   ]
  },
  {
   "cell_type": "code",
   "execution_count": null,
   "metadata": {},
   "outputs": [],
   "source": [
    "def user_cost_fnc(y, y_hat):\n",
    "    cost = cp.norm(y - y_hat)\n",
    "    return cost\n",
    "\n",
    "def map_func(x, point_set, x_sup=None):\n",
    "    point_idxs = [point[0] for point in point_set]\n",
    "    points = np.array(x[:,:,point_idxs].values).reshape((n*n, 10)) / 12\n",
    "    return points\n",
    "\n",
    "params = {}\n",
    "integration_list = ['integration_axis']\n",
    "params['integration_list'] = integration_list\n",
    "params['n_points'] = 10\n",
    "params['epochs'] = 50\n",
    "params['success'] = 125\n",
    "params['block_size'] = 250\n",
    "\n",
    "history = ddq.optimize(x, y_ref / 12, user_cost_fnc, map_func, params, x_sup=None)"
   ]
  },
  {
   "cell_type": "code",
   "execution_count": null,
   "metadata": {},
   "outputs": [],
   "source": [
    "mean_costs = []\n",
    "for cost in history['cost']:\n",
    "    mean_costs.append(np.min(cost))\n",
    "\n",
    "plt.plot(np.arange(len(mean_costs)), np.log(mean_costs))\n",
    "print(history.keys())\n",
    "print(history['best'])"
   ]
  },
  {
   "cell_type": "code",
   "execution_count": null,
   "metadata": {},
   "outputs": [],
   "source": []
  }
 ],
 "metadata": {
  "kernelspec": {
   "display_name": "Python 3",
   "language": "python",
   "name": "python3"
  },
  "language_info": {
   "codemirror_mode": {
    "name": "ipython",
    "version": 3
   },
   "file_extension": ".py",
   "mimetype": "text/x-python",
   "name": "python",
   "nbconvert_exporter": "python",
   "pygments_lexer": "ipython3",
   "version": "3.11.4"
  }
 },
 "nbformat": 4,
 "nbformat_minor": 2
}
