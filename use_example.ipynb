{
 "cells": [
  {
   "cell_type": "markdown",
   "metadata": {},
   "source": [
    "# Example usage of data-drive-quadtrature annealing optimization for spectral fluxes\n",
    "\n",
    "### Neal Ma\n",
    "\n",
    "This notebook shows an example of using the data-driven-quadrature package for estimating spectral fluxes. \n",
    "\n",
    "TODO:\n",
    "\n",
    "- Data availability and attribution"
   ]
  },
  {
   "cell_type": "code",
   "execution_count": 1,
   "metadata": {},
   "outputs": [],
   "source": [
    "# Import all necessary packages \n",
    "import numpy as np\n",
    "import xarray as xr\n",
    "import cvxpy as cp\n",
    "import datadrivenquadrature as ddq\n",
    "\n",
    "# Not a necessary package but helpful\n",
    "import matplotlib.pyplot as plt"
   ]
  },
  {
   "cell_type": "code",
   "execution_count": 2,
   "metadata": {},
   "outputs": [],
   "source": [
    "# Load in data\n",
    "x_file_path = './../data/pyarts_training_72000_all_levels.h5'\n",
    "x = xr.open_mfdataset(x_file_path, combine = 'nested', concat_dim = 'column', engine = \"netcdf4\")\n",
    "\n",
    "# # Extract flattened spectral fluxes\n",
    "# x_sup = np.reshape(np.array(x['spectral_fluxes']), (55*50, x['spectral_fluxes'].shape[-1]))\n",
    "# Extract flattened reference fluxes\n",
    "y_ref = np.array(x['reference_fluxes'].data).flatten()"
   ]
  },
  {
   "cell_type": "code",
   "execution_count": 3,
   "metadata": {},
   "outputs": [
    {
     "name": "stdout",
     "output_type": "stream",
     "text": [
      "x:\n",
      " <xarray.Dataset>\n",
      "Dimensions:            (half_level: 55, column: 50, spectral_coord: 72120,\n",
      "                        level: 54)\n",
      "Coordinates:\n",
      "  * half_level         (half_level) int64 0 1 2 3 4 5 6 ... 48 49 50 51 52 53 54\n",
      "  * level              (level) int64 0 1 2 3 4 5 6 7 ... 46 47 48 49 50 51 52 53\n",
      "  * column             (column) int64 0 1 2 3 4 5 6 7 ... 43 44 45 46 47 48 49\n",
      "  * spectral_coord     (spectral_coord) float32 0.0002 0.0202 ... 3.26e+03\n",
      "Data variables:\n",
      "    spectral_fluxes    (half_level, column, spectral_coord) float64 dask.array<chunksize=(55, 50, 72120), meta=np.ndarray>\n",
      "    reference_fluxes   (half_level, column) float64 dask.array<chunksize=(55, 50), meta=np.ndarray>\n",
      "    reference_heating  (column, level) float64 dask.array<chunksize=(50, 54), meta=np.ndarray>\n",
      "    pressures          (column, half_level) float32 dask.array<chunksize=(50, 55), meta=np.ndarray>\n",
      "y:\n",
      " (2750,)\n",
      "axis_len:\n",
      " 72120\n"
     ]
    }
   ],
   "source": [
    "# Print dataset, reference fluxes, and axis length\n",
    "print(\"x:\\n\", x)\n",
    "print(\"y:\\n\", np.asarray(y_ref).shape)\n",
    "print(\"axis_len:\\n\", (x['spectral_fluxes'].shape)[-1])"
   ]
  },
  {
   "cell_type": "code",
   "execution_count": 4,
   "metadata": {},
   "outputs": [],
   "source": [
    "# calculate the scale to use for integration axis normalization\n",
    "norm_vector = ddq.find_normalization_vector(x, ['spectral_coord'])\n",
    "\n",
    "def user_cost_fnc(y, y_hat):\n",
    "    cost = cp.norm(y - y_hat)\n",
    "    return cost\n",
    "\n",
    "def map_func(x, point_set, x_sup=None):\n",
    "    point_idxs = [point[0] for point in point_set]\n",
    "    points = np.array(x.spectral_fluxes[:,:,point_idxs].values).reshape((55*50, 15)) / norm_vector[0][0]\n",
    "    return points"
   ]
  },
  {
   "cell_type": "code",
   "execution_count": 5,
   "metadata": {},
   "outputs": [
    {
     "name": "stdout",
     "output_type": "stream",
     "text": [
      "(2750, 15) (2750, 15)\n",
      "True\n"
     ]
    },
    {
     "data": {
      "text/plain": [
       "0"
      ]
     },
     "execution_count": 5,
     "metadata": {},
     "output_type": "execute_result"
    }
   ],
   "source": [
    "params = {}\n",
    "integration_list = ['spectral_coord']\n",
    "params['integration_list'] = integration_list\n",
    "params['n_points'] = 15\n",
    "params['epochs'] = 5\n",
    "params['success'] = 5\n",
    "params['block_size'] = 10\n",
    "ddq.check_params(x,  y_ref / norm_vector[0][0], user_cost_fnc, map_func, params)"
   ]
  },
  {
   "cell_type": "code",
   "execution_count": 6,
   "metadata": {},
   "outputs": [
    {
     "name": "stdout",
     "output_type": "stream",
     "text": [
      "<class 'cvxpy.atoms.pnorm.Pnorm'>\n",
      "INITIAL BLOCK: iteration 0\n",
      "INITIAL BLOCK: iteration 1\n",
      "INITIAL BLOCK: iteration 2\n",
      "INITIAL BLOCK: iteration 3\n",
      "INITIAL BLOCK: iteration 4\n",
      "INITIAL BLOCK: iteration 5\n",
      "INITIAL BLOCK: iteration 6\n",
      "INITIAL BLOCK: iteration 7\n",
      "INITIAL BLOCK: iteration 8\n",
      "INITIAL BLOCK: iteration 9\n",
      "1 0 [[36765], [6150], [51451], [36334], [25143], [43256], [56241], [44248], [35309], [9267], [51636], [54818], [8469], [32101], [43756]] 3.458477602247485\n",
      "1 1 [[36765], [6150], [51451], [36334], [25143], [43256], [56241], [44248], [35309], [9267], [51636], [54818], [8469], [41535], [43756]] 3.4584776022474455\n",
      "1 2 [[36765], [6150], [56911], [36334], [25143], [43256], [56241], [44248], [35309], [9267], [51636], [54818], [8469], [41535], [43756]] 3.45847760259763\n",
      "1 3 [[36765], [6150], [56911], [36334], [25143], [43256], [56241], [58388], [35309], [9267], [51636], [54818], [8469], [41535], [43756]] 3.458477602246507\n",
      "1 4 [[36765], [6150], [56911], [36334], [25143], [43211], [56241], [58388], [35309], [9267], [51636], [54818], [8469], [41535], [43756]] 3.458272706725784\n",
      "2 0 [[36765], [6150], [56911], [36334], [25143], [43211], [56241], [58388], [27417], [9267], [51636], [54818], [8469], [41535], [43756]] 3.458272706725891\n",
      "2 1 [[36765], [6150], [56911], [10254], [25143], [43211], [56241], [58388], [27417], [9267], [51636], [54818], [8469], [41535], [43756]] 3.458272706725377\n",
      "2 2 [[36765], [6150], [56911], [10254], [25143], [43211], [15252], [58388], [27417], [9267], [51636], [54818], [8469], [41535], [43756]] 3.458272706731224\n",
      "2 3 [[36765], [6150], [56911], [10254], [25143], [43211], [38231], [58388], [27417], [9267], [51636], [54818], [8469], [41535], [43756]] 3.45827270672787\n",
      "2 4 [[36765], [6150], [56911], [10254], [25143], [56741], [38231], [58388], [27417], [9267], [51636], [54818], [8469], [41535], [43756]] 3.45827270672807\n",
      "3 0 [[36765], [6150], [56911], [10254], [25143], [70191], [38231], [58388], [27417], [9267], [51636], [54818], [8469], [41535], [43756]] 3.4582727067242534\n",
      "3 1 [[36765], [6150], [56911], [10254], [25143], [70191], [38231], [58388], [27417], [9267], [51636], [54818], [8469], [41535], [52281]] 3.458272706724408\n",
      "3 2 [[36765], [6150], [71427], [10254], [25143], [70191], [38231], [58388], [27417], [9267], [51636], [54818], [8469], [41535], [52281]] 3.4582727067243155\n",
      "3 3 [[36765], [6150], [71427], [10254], [25143], [70191], [38231], [58388], [27417], [12334], [51636], [54818], [8469], [41535], [52281]] 3.458272706724446\n",
      "3 4 [[36765], [6150], [71427], [10254], [25143], [70191], [38231], [45698], [27417], [12334], [51636], [54818], [8469], [41535], [52281]] 3.4582035940841\n",
      "4 0 [[36765], [6150], [71427], [10254], [25143], [70191], [38231], [45698], [27417], [12334], [51636], [54818], [24686], [41535], [52281]] 3.458203594082991\n",
      "4 1 [[36765], [6150], [71427], [10254], [70151], [70191], [38231], [45698], [27417], [12334], [51636], [54818], [24686], [41535], [52281]] 3.4582035940820917\n",
      "4 2 [[36765], [6150], [71427], [10254], [70151], [70191], [24718], [45698], [27417], [12334], [51636], [54818], [24686], [41535], [52281]] 3.4582035940763647\n",
      "4 3 [[36765], [6150], [71427], [10254], [70151], [70191], [24718], [45698], [59217], [12334], [51636], [54818], [24686], [41535], [52281]] 3.4582035942786664\n",
      "4 4 [[36765], [6150], [71427], [10254], [70151], [70191], [71263], [45698], [59217], [12334], [51636], [54818], [24686], [41535], [52281]] 3.4582035940834133\n"
     ]
    }
   ],
   "source": [
    "history = ddq.optimize(x, y_ref / norm_vector[0][0], user_cost_fnc, map_func, params)"
   ]
  },
  {
   "cell_type": "code",
   "execution_count": null,
   "metadata": {},
   "outputs": [],
   "source": [
    "# Plot cost history\n",
    "mean_costs = []\n",
    "for cost in history['cost']:\n",
    "    mean_costs.append(np.min(cost))\n",
    "\n",
    "plt.plot(np.arange(len(mean_costs)), mean_costs)\n",
    "print(history.keys())\n",
    "print(history['best'])\n",
    "# print(sum(history['weight_sets'][5][4]))\n",
    "# print(history['cost'][6][4])\n"
   ]
  },
  {
   "cell_type": "code",
   "execution_count": null,
   "metadata": {},
   "outputs": [],
   "source": [
    "flat_history = flatten_history(history)\n",
    "flat_cost = flat_history['cost']\n",
    "plt.plot(range(len(flat_cost)), np.log10(flat_cost))"
   ]
  }
 ],
 "metadata": {
  "kernelspec": {
   "display_name": "Python 3",
   "language": "python",
   "name": "python3"
  },
  "language_info": {
   "codemirror_mode": {
    "name": "ipython",
    "version": 3
   },
   "file_extension": ".py",
   "mimetype": "text/x-python",
   "name": "python",
   "nbconvert_exporter": "python",
   "pygments_lexer": "ipython3",
   "version": "3.11.4"
  }
 },
 "nbformat": 4,
 "nbformat_minor": 2
}
